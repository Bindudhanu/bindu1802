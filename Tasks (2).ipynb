{
 "cells": [
  {
   "cell_type": "markdown",
   "id": "e857d123-2451-48b9-8fe7-6114dc676d63",
   "metadata": {},
   "source": [
    "task 1"
   ]
  },
  {
   "cell_type": "markdown",
   "id": "c0100945-25da-4ed5-a68a-1fe8fedef6a2",
   "metadata": {},
   "source": [
    "# string methods "
   ]
  },
  {
   "cell_type": "code",
   "execution_count": 24,
   "id": "01c5f659-7350-4c64-b0ca-a879c3669873",
   "metadata": {},
   "outputs": [],
   "source": [
    "name=\"bindu\""
   ]
  },
  {
   "cell_type": "code",
   "execution_count": 25,
   "id": "7d39b439-3b27-4c71-b53d-dfb8b2625db5",
   "metadata": {},
   "outputs": [
    {
     "data": {
      "text/plain": [
       "'Bindu'"
      ]
     },
     "execution_count": 25,
     "metadata": {},
     "output_type": "execute_result"
    }
   ],
   "source": [
    "name.capitalize()#capitalize is captitaliling the first letter "
   ]
  },
  {
   "cell_type": "code",
   "execution_count": 15,
   "id": "3ed6b257-7525-448c-af35-f70b34548cfb",
   "metadata": {},
   "outputs": [],
   "source": [
    "name_1='BINDU'"
   ]
  },
  {
   "cell_type": "code",
   "execution_count": 16,
   "id": "8c1c47ea-2f0d-43ec-b22a-e034394949b3",
   "metadata": {},
   "outputs": [
    {
     "data": {
      "text/plain": [
       "'bindu'"
      ]
     },
     "execution_count": 16,
     "metadata": {},
     "output_type": "execute_result"
    }
   ],
   "source": [
    "name_1.casefold()#casefold is coverts all the uppercaste letter in string to lower case letters "
   ]
  },
  {
   "cell_type": "code",
   "execution_count": 20,
   "id": "e60fc125-3e1e-4952-9da2-12c063d2571c",
   "metadata": {},
   "outputs": [],
   "source": [
    "string='hi bachan'"
   ]
  },
  {
   "cell_type": "code",
   "execution_count": 22,
   "id": "1dae10b4-a3f1-40a1-a715-72c0c831631f",
   "metadata": {},
   "outputs": [
    {
     "name": "stdout",
     "output_type": "stream",
     "text": [
      "          hi bachan           \n"
     ]
    }
   ],
   "source": [
    "print(string.center(30))#center is used for to centering the string "
   ]
  },
  {
   "cell_type": "code",
   "execution_count": 28,
   "id": "266c5be6-27ce-4613-aa8e-a14f5206dda4",
   "metadata": {},
   "outputs": [
    {
     "data": {
      "text/plain": [
       "1"
      ]
     },
     "execution_count": 28,
     "metadata": {},
     "output_type": "execute_result"
    }
   ],
   "source": [
    "name.count('b')#count is counting the number of  letter repeated "
   ]
  },
  {
   "cell_type": "code",
   "execution_count": 30,
   "id": "7641a99b-d2a7-428e-be24-9be9ebb3a354",
   "metadata": {},
   "outputs": [],
   "source": [
    "txt='hello my friend'"
   ]
  },
  {
   "cell_type": "code",
   "execution_count": 44,
   "id": "ee6d20f9-4703-4257-ae4e-ac6d0f1186aa",
   "metadata": {},
   "outputs": [],
   "source": [
    "x=txt.endswith('hello my friend')#the endswith method returns true if strings ends with the specified suffix.if not itreturns flase."
   ]
  },
  {
   "cell_type": "code",
   "execution_count": 45,
   "id": "8d3aedcd-8963-4dec-bd2f-5aba63f71880",
   "metadata": {},
   "outputs": [
    {
     "name": "stdout",
     "output_type": "stream",
     "text": [
      "True\n"
     ]
    }
   ],
   "source": [
    "print(x)"
   ]
  },
  {
   "cell_type": "code",
   "execution_count": 86,
   "id": "9123b62b-af35-496a-91e3-52c3882e4dbc",
   "metadata": {},
   "outputs": [],
   "source": [
    "tXET=\"Hello is my phoneringing\""
   ]
  },
  {
   "cell_type": "code",
   "execution_count": 88,
   "id": "9c3f5b5a-55f7-41c7-a37b-9d71a6f277bb",
   "metadata": {},
   "outputs": [
    {
     "data": {
      "text/plain": [
       "9"
      ]
     },
     "execution_count": 88,
     "metadata": {},
     "output_type": "execute_result"
    }
   ],
   "source": [
    "tXET.find(\"my\")#find searches the string for specificd value and returns the position of where if was found"
   ]
  },
  {
   "cell_type": "code",
   "execution_count": 89,
   "id": "e5e3d7bf-4334-45a4-a44a-a385eef0f0c8",
   "metadata": {},
   "outputs": [],
   "source": [
    "txts=\"for only {price:2} dollars\""
   ]
  },
  {
   "cell_type": "code",
   "execution_count": 92,
   "id": "96e28439-413a-46a0-8f33-78e61bf21acc",
   "metadata": {},
   "outputs": [
    {
     "name": "stdout",
     "output_type": "stream",
     "text": [
      "for only 49 dollars\n"
     ]
    }
   ],
   "source": [
    "print(txts.format(price=49))#formats specify the values in the strings "
   ]
  },
  {
   "cell_type": "code",
   "execution_count": 93,
   "id": "5a27e97f-2098-4060-8d52-3f9c594b0b12",
   "metadata": {},
   "outputs": [
    {
     "data": {
      "text/plain": [
       "'bindu'"
      ]
     },
     "execution_count": 93,
     "metadata": {},
     "output_type": "execute_result"
    }
   ],
   "source": [
    "name_1.lower()#samll letter "
   ]
  },
  {
   "cell_type": "code",
   "execution_count": 94,
   "id": "686d3dca-790e-4ab7-b259-5851828d874d",
   "metadata": {},
   "outputs": [
    {
     "data": {
      "text/plain": [
       "'BINDU'"
      ]
     },
     "execution_count": 94,
     "metadata": {},
     "output_type": "execute_result"
    }
   ],
   "source": [
    "name.upper()#upper the letter "
   ]
  },
  {
   "cell_type": "code",
   "execution_count": 95,
   "id": "63ba75a3-4203-4ac8-bf79-f28da3828ea4",
   "metadata": {},
   "outputs": [],
   "source": [
    "title=\"hi everyone\""
   ]
  },
  {
   "cell_type": "code",
   "execution_count": 97,
   "id": "9d1e7af8-97d9-463a-883a-b5d96ac6fda4",
   "metadata": {},
   "outputs": [
    {
     "data": {
      "text/plain": [
       "'Hi Everyone'"
      ]
     },
     "execution_count": 97,
     "metadata": {},
     "output_type": "execute_result"
    }
   ],
   "source": [
    "title.title()# title where first characters is every word is upper case like header or title"
   ]
  },
  {
   "cell_type": "code",
   "execution_count": 98,
   "id": "a9c26df5-b537-4c09-b518-6de16313b314",
   "metadata": {},
   "outputs": [],
   "source": [
    "txts=\"50\""
   ]
  },
  {
   "cell_type": "code",
   "execution_count": 100,
   "id": "db3d12be-15bd-4ad9-8652-aa17d78ce277",
   "metadata": {},
   "outputs": [
    {
     "data": {
      "text/plain": [
       "'0000000000000000050'"
      ]
     },
     "execution_count": 100,
     "metadata": {},
     "output_type": "execute_result"
    }
   ],
   "source": [
    "txts.zfill(19)# zfill is adds zero at the beggining of srtings until it reaches the specified length"
   ]
  },
  {
   "cell_type": "code",
   "execution_count": 101,
   "id": "0368a567-be9c-4cef-be3c-56b63e1babe4",
   "metadata": {},
   "outputs": [],
   "source": [
    "txt=\"Hello My Name Is Peter\""
   ]
  },
  {
   "cell_type": "code",
   "execution_count": 103,
   "id": "1582d278-d419-4a73-b394-21fef469124e",
   "metadata": {},
   "outputs": [
    {
     "data": {
      "text/plain": [
       "'hELLO mY nAME iS pETER'"
      ]
     },
     "execution_count": 103,
     "metadata": {},
     "output_type": "execute_result"
    }
   ],
   "source": [
    "txt.swapcase()#swapcase is the upper case letters are lower and vice versa"
   ]
  },
  {
   "cell_type": "code",
   "execution_count": 104,
   "id": "306cc3a5-fc52-4083-94a5-1f708e5d5ba4",
   "metadata": {},
   "outputs": [],
   "source": [
    "num_1=55000"
   ]
  },
  {
   "cell_type": "code",
   "execution_count": 105,
   "id": "f2c8057d-acb3-4b06-bea8-12f90f5e1cc6",
   "metadata": {},
   "outputs": [],
   "source": [
    "num_2=587543870"
   ]
  },
  {
   "cell_type": "code",
   "execution_count": 106,
   "id": "86702ab2-8d28-489e-bb19-6a97cffd8c3a",
   "metadata": {},
   "outputs": [
    {
     "data": {
      "text/plain": [
       "587598870"
      ]
     },
     "execution_count": 106,
     "metadata": {},
     "output_type": "execute_result"
    }
   ],
   "source": [
    "num_1+num_2"
   ]
  },
  {
   "cell_type": "code",
   "execution_count": 107,
   "id": "691302ef-7db1-4250-88a0-d8f6bdc78a8d",
   "metadata": {},
   "outputs": [],
   "source": [
    "num=num_1+num_2"
   ]
  },
  {
   "cell_type": "code",
   "execution_count": 108,
   "id": "4bdecdcf-e147-426d-b946-b40555a381c5",
   "metadata": {},
   "outputs": [
    {
     "data": {
      "text/plain": [
       "587598870"
      ]
     },
     "execution_count": 108,
     "metadata": {},
     "output_type": "execute_result"
    }
   ],
   "source": [
    "num"
   ]
  },
  {
   "cell_type": "code",
   "execution_count": 109,
   "id": "fc61e469-7629-482f-a64d-ab384cc1ea30",
   "metadata": {},
   "outputs": [
    {
     "data": {
      "text/plain": [
       "293799435000"
      ]
     },
     "execution_count": 109,
     "metadata": {},
     "output_type": "execute_result"
    }
   ],
   "source": [
    "num*500"
   ]
  },
  {
   "cell_type": "markdown",
   "id": "5fda0dff-6c41-466a-ba58-efce661d569e",
   "metadata": {},
   "source": [
    "task 2"
   ]
  },
  {
   "cell_type": "markdown",
   "id": "614fd066-ea3d-48ec-ad8c-5e8b15bbec7d",
   "metadata": {},
   "source": [
    "# collect the username and phone number then print this statement\n",
    "define function "
   ]
  },
  {
   "cell_type": "code",
   "execution_count": 6,
   "id": "62a38dd0-f297-49ad-a591-5dea38288923",
   "metadata": {},
   "outputs": [
    {
     "name": "stdin",
     "output_type": "stream",
     "text": [
      "please enter your name  bindu dk\n"
     ]
    }
   ],
   "source": [
    "user_name=input(\"please enter your name \")"
   ]
  },
  {
   "cell_type": "code",
   "execution_count": 5,
   "id": "61915daf-7dbf-495f-bd5f-a124e8305412",
   "metadata": {},
   "outputs": [
    {
     "name": "stdin",
     "output_type": "stream",
     "text": [
      "please enter your phonenumber 785347679\n"
     ]
    }
   ],
   "source": [
    "user_phonenum=input(\"please enter your phonenumber\")"
   ]
  },
  {
   "cell_type": "code",
   "execution_count": 7,
   "id": "337f9542-3324-48b5-8ee5-4275e10a3d04",
   "metadata": {},
   "outputs": [
    {
     "name": "stdout",
     "output_type": "stream",
     "text": [
      "my username is bindu dk and my phone_number is 785347679\n"
     ]
    }
   ],
   "source": [
    "print(f\"my username is {user_name} and my phone_number is {user_phonenum}\")"
   ]
  },
  {
   "cell_type": "markdown",
   "id": "1ba0051a-6463-43df-9940-27331d2db2dc",
   "metadata": {},
   "source": [
    "task 2"
   ]
  },
  {
   "cell_type": "markdown",
   "id": "f90dcf76-859d-4e7f-b82f-dc0772c088c0",
   "metadata": {},
   "source": [
    "#write a functiom with print statement one is your name and other is your number "
   ]
  },
  {
   "cell_type": "code",
   "execution_count": 9,
   "id": "a745a689-6928-4359-9526-65d5afa1d536",
   "metadata": {},
   "outputs": [],
   "source": [
    "def my_activity():\n",
    "    print(\"my name is bindu\")\n",
    "    print(\"my number is 76546858\")"
   ]
  },
  {
   "cell_type": "code",
   "execution_count": 10,
   "id": "f0a6982e-2da4-4e0c-9b79-e68aec341f3d",
   "metadata": {},
   "outputs": [
    {
     "name": "stdout",
     "output_type": "stream",
     "text": [
      "my name is bindu\n",
      "my number is 76546858\n"
     ]
    }
   ],
   "source": [
    "my_activity()"
   ]
  },
  {
   "cell_type": "markdown",
   "id": "61a614e7-bc90-43ab-81aa-97269c21b823",
   "metadata": {},
   "source": [
    "task 4 "
   ]
  },
  {
   "cell_type": "markdown",
   "id": "ba585273-aa36-4356-ba4e-c255f3bab226",
   "metadata": {},
   "source": [
    "1.for loop "
   ]
  },
  {
   "cell_type": "code",
   "execution_count": 34,
   "id": "c30b5d53-d411-4dfc-97db-1d0f768646a0",
   "metadata": {},
   "outputs": [],
   "source": [
    "def challenge_function():\n",
    "    for i in range(1,11):\n",
    "        print(\"i enjoy learning python\")"
   ]
  },
  {
   "cell_type": "code",
   "execution_count": null,
   "id": "d03431df-cc7f-47ac-8942-3d7b528ef29a",
   "metadata": {},
   "outputs": [],
   "source": []
  },
  {
   "cell_type": "code",
   "execution_count": null,
   "id": "bffeab62-06b6-4330-8827-6191275d47ed",
   "metadata": {},
   "outputs": [],
   "source": [
    "#2.user defined functions without for loop"
   ]
  },
  {
   "cell_type": "code",
   "execution_count": 33,
   "id": "a4cb1b78-3755-4609-88af-853302a0dd9a",
   "metadata": {},
   "outputs": [
    {
     "name": "stdout",
     "output_type": "stream",
     "text": [
      "i enjoy learning python\n",
      "i enjoy learning python\n",
      "i enjoy learning python\n",
      "i enjoy learning python\n",
      "i enjoy learning python\n",
      "i enjoy learning python\n",
      "i enjoy learning python\n",
      "i enjoy learning python\n",
      "i enjoy learning python\n",
      "i enjoy learning python\n"
     ]
    }
   ],
   "source": [
    "challenge_function()"
   ]
  },
  {
   "cell_type": "code",
   "execution_count": null,
   "id": "a72b08e3-2203-4479-869c-bc4bc7d1cbc6",
   "metadata": {},
   "outputs": [],
   "source": [
    "#3.user defined functions with for loop"
   ]
  },
  {
   "cell_type": "code",
   "execution_count": 35,
   "id": "7bf5f177-8ae4-4f06-a9fd-d70123bed2df",
   "metadata": {},
   "outputs": [
    {
     "name": "stdout",
     "output_type": "stream",
     "text": [
      "i enjoy learning python\n",
      "i enjoy learning python\n",
      "i enjoy learning python\n",
      "i enjoy learning python\n",
      "i enjoy learning python\n",
      "i enjoy learning python\n",
      "i enjoy learning python\n",
      "i enjoy learning python\n",
      "i enjoy learning python\n",
      "i enjoy learning python\n"
     ]
    }
   ],
   "source": [
    " for i in range(1,11):\n",
    "        print(\"i enjoy learning python\")"
   ]
  },
  {
   "cell_type": "markdown",
   "id": "396adae7-0aa8-4807-ad1b-98472b5429c3",
   "metadata": {},
   "source": [
    "#4.for loop not in operator"
   ]
  },
  {
   "cell_type": "code",
   "execution_count": 8,
   "id": "14324c26-3ef0-4b05-bf8b-ac433690288e",
   "metadata": {},
   "outputs": [],
   "source": [
    "survey=\"climate is not in good condtion\""
   ]
  },
  {
   "cell_type": "code",
   "execution_count": 11,
   "id": "dceaacf7-5f81-48b5-8d25-c51bd9a399c9",
   "metadata": {},
   "outputs": [
    {
     "data": {
      "text/plain": [
       "True"
      ]
     },
     "execution_count": 11,
     "metadata": {},
     "output_type": "execute_result"
    }
   ],
   "source": [
    "\"manu\" not in survey"
   ]
  },
  {
   "cell_type": "code",
   "execution_count": 23,
   "id": "1198051d-14ad-4a58-a64e-670e61522c61",
   "metadata": {},
   "outputs": [],
   "source": [
    "#how do we find the factors in numbers(#In order to find factors of a number, we have to run a loop over all numbers from 1 to itself and see if it is divisible.)"
   ]
  },
  {
   "cell_type": "code",
   "execution_count": 22,
   "id": "7afaf432-0f3f-4c77-87c5-819398d65ffe",
   "metadata": {},
   "outputs": [
    {
     "name": "stdin",
     "output_type": "stream",
     "text": [
      "enter a number 75\n"
     ]
    },
    {
     "name": "stdout",
     "output_type": "stream",
     "text": [
      "Factors of 75 = [1, 3, 5, 15, 25, 75]\n"
     ]
    }
   ],
   "source": [
    "num=int(input(\"enter a number\"))\n",
    "factors=[]\n",
    "for i in range(1,num+1):\n",
    "    if num%i==0:\n",
    "       factors.append(i)\n",
    "\n",
    "print (\"Factors of {} = {}\".format(num,factors))"
   ]
  },
  {
   "cell_type": "markdown",
   "id": "d0dfd6e9-e6f2-414d-83b8-bde52bc6ef5e",
   "metadata": {},
   "source": [
    "# data structure examples "
   ]
  },
  {
   "cell_type": "markdown",
   "id": "50761361-f180-48ec-b9f6-142baff8784f",
   "metadata": {},
   "source": [
    "# list"
   ]
  },
  {
   "cell_type": "code",
   "execution_count": 26,
   "id": "0dd5b4b5-9df0-41a0-af29-1e087461cae0",
   "metadata": {},
   "outputs": [],
   "source": [
    "my_list=()"
   ]
  },
  {
   "cell_type": "code",
   "execution_count": 27,
   "id": "c6830cb0-903a-4fc1-a20e-103f85d494f2",
   "metadata": {},
   "outputs": [
    {
     "data": {
      "text/plain": [
       "tuple"
      ]
     },
     "execution_count": 27,
     "metadata": {},
     "output_type": "execute_result"
    }
   ],
   "source": [
    "type(my_list)"
   ]
  },
  {
   "cell_type": "markdown",
   "id": "caa2eb5d-3de7-4c08-b804-46e1ceb59320",
   "metadata": {},
   "source": [
    "makeup_list=['lakme','ponds','foundation','lipsticks']"
   ]
  },
  {
   "cell_type": "code",
   "execution_count": 41,
   "id": "248fb5d8-4cb6-42f9-b2d2-12d89d0baa90",
   "metadata": {},
   "outputs": [
    {
     "data": {
      "text/plain": [
       "['lakme', 'ponds', 'foundation', 'lipsticks']"
      ]
     },
     "execution_count": 41,
     "metadata": {},
     "output_type": "execute_result"
    }
   ],
   "source": [
    "makeup_list"
   ]
  },
  {
   "cell_type": "code",
   "execution_count": 42,
   "id": "c9c412b0-aba3-41db-9fdf-6d86b41b1f4b",
   "metadata": {},
   "outputs": [
    {
     "data": {
      "text/plain": [
       "'ponds'"
      ]
     },
     "execution_count": 42,
     "metadata": {},
     "output_type": "execute_result"
    }
   ],
   "source": [
    "makeup_list[1]"
   ]
  },
  {
   "cell_type": "code",
   "execution_count": 46,
   "id": "0a4cb440-2928-40bb-bfbc-f98720ccdc11",
   "metadata": {},
   "outputs": [],
   "source": [
    "makeup_list.append('kajal')"
   ]
  },
  {
   "cell_type": "code",
   "execution_count": 47,
   "id": "0cc8aadf-046e-4ada-a118-6b6318dde412",
   "metadata": {},
   "outputs": [
    {
     "data": {
      "text/plain": [
       "['lakme', 'ponds', 'foundation', 'lipsticks', 2, 'kajal']"
      ]
     },
     "execution_count": 47,
     "metadata": {},
     "output_type": "execute_result"
    }
   ],
   "source": [
    "makeup_list"
   ]
  },
  {
   "cell_type": "markdown",
   "id": "bfd818b3-0d32-42bc-b528-312cefce3cdb",
   "metadata": {},
   "source": [
    "# set"
   ]
  },
  {
   "cell_type": "code",
   "execution_count": 52,
   "id": "356ca429-60a4-46c5-a525-8ff167256758",
   "metadata": {},
   "outputs": [],
   "source": [
    "my_set=set()"
   ]
  },
  {
   "cell_type": "code",
   "execution_count": 53,
   "id": "1229d219-20c6-4edc-9f0e-29ff291050f4",
   "metadata": {},
   "outputs": [
    {
     "data": {
      "text/plain": [
       "set"
      ]
     },
     "execution_count": 53,
     "metadata": {},
     "output_type": "execute_result"
    }
   ],
   "source": [
    "type(my_set)"
   ]
  },
  {
   "cell_type": "code",
   "execution_count": 54,
   "id": "ddd15f60-161c-4493-972c-57f1949a2267",
   "metadata": {},
   "outputs": [],
   "source": [
    "my_blow={'banan','apple','onion'}"
   ]
  },
  {
   "cell_type": "code",
   "execution_count": 55,
   "id": "4081282e-ee59-41d1-a654-2197226ab5a8",
   "metadata": {},
   "outputs": [
    {
     "data": {
      "text/plain": [
       "{'apple', 'banan', 'onion'}"
      ]
     },
     "execution_count": 55,
     "metadata": {},
     "output_type": "execute_result"
    }
   ],
   "source": [
    "my_blow"
   ]
  },
  {
   "cell_type": "code",
   "execution_count": 57,
   "id": "7f985bcb-c153-4e86-9e3e-c8946654023a",
   "metadata": {},
   "outputs": [],
   "source": [
    "my_blow.add('gamun')"
   ]
  },
  {
   "cell_type": "code",
   "execution_count": 58,
   "id": "d17ccd3c-bef7-4b9f-af10-10a2effa9f3e",
   "metadata": {},
   "outputs": [
    {
     "data": {
      "text/plain": [
       "{'apple', 'banan', 'gamun', 'onion'}"
      ]
     },
     "execution_count": 58,
     "metadata": {},
     "output_type": "execute_result"
    }
   ],
   "source": [
    "my_blow"
   ]
  },
  {
   "cell_type": "markdown",
   "id": "10a33a25-bb69-429f-9a88-528994fd92bc",
   "metadata": {},
   "source": [
    "# tuple"
   ]
  },
  {
   "cell_type": "code",
   "execution_count": 59,
   "id": "d460f74e-e22e-4e50-b323-986a268885d7",
   "metadata": {},
   "outputs": [],
   "source": [
    "my_tuple=()"
   ]
  },
  {
   "cell_type": "code",
   "execution_count": 60,
   "id": "aaad4ec6-9bb1-4207-a9af-18aee3b02095",
   "metadata": {},
   "outputs": [
    {
     "data": {
      "text/plain": [
       "tuple"
      ]
     },
     "execution_count": 60,
     "metadata": {},
     "output_type": "execute_result"
    }
   ],
   "source": [
    "type(my_tuple)"
   ]
  },
  {
   "cell_type": "code",
   "execution_count": 66,
   "id": "8d3e679a-a4a4-449b-9c4c-33225218cfe9",
   "metadata": {},
   "outputs": [],
   "source": [
    "my_tuple=('annu','bannu','gannu','gannu')"
   ]
  },
  {
   "cell_type": "code",
   "execution_count": 67,
   "id": "9f7fe817-0886-4596-80ff-244c5c52791d",
   "metadata": {},
   "outputs": [
    {
     "data": {
      "text/plain": [
       "('annu', 'bannu', 'gannu', 'gannu')"
      ]
     },
     "execution_count": 67,
     "metadata": {},
     "output_type": "execute_result"
    }
   ],
   "source": [
    "my_tuple"
   ]
  },
  {
   "cell_type": "code",
   "execution_count": 68,
   "id": "fa6d2d62-c619-4b21-9e5d-4dc6d1efc2c6",
   "metadata": {},
   "outputs": [
    {
     "data": {
      "text/plain": [
       "0"
      ]
     },
     "execution_count": 68,
     "metadata": {},
     "output_type": "execute_result"
    }
   ],
   "source": [
    "my_tuple.count(('annu','bannu','gannu','gannu'))"
   ]
  },
  {
   "cell_type": "markdown",
   "id": "8cd7fe1b-069f-409e-aa43-ccf68093e419",
   "metadata": {},
   "source": [
    "# dict"
   ]
  },
  {
   "cell_type": "code",
   "execution_count": 70,
   "id": "125445a5-ee66-484e-a3aa-a4c202de4c4c",
   "metadata": {},
   "outputs": [],
   "source": [
    "my_dict={\"principle\":[\"students\",\"staffs\",\"vice principle\"]}"
   ]
  },
  {
   "cell_type": "code",
   "execution_count": 71,
   "id": "9075d931-847f-4bb1-a314-fa124bf80ce6",
   "metadata": {},
   "outputs": [
    {
     "data": {
      "text/plain": [
       "dict"
      ]
     },
     "execution_count": 71,
     "metadata": {},
     "output_type": "execute_result"
    }
   ],
   "source": [
    "type(my_dict)"
   ]
  },
  {
   "cell_type": "code",
   "execution_count": 72,
   "id": "3c5c8beb-1bf6-4280-bb54-2495019688c2",
   "metadata": {},
   "outputs": [
    {
     "data": {
      "text/plain": [
       "{'principle': ['students', 'staffs', 'vice principle']}"
      ]
     },
     "execution_count": 72,
     "metadata": {},
     "output_type": "execute_result"
    }
   ],
   "source": [
    "my_dict"
   ]
  },
  {
   "cell_type": "code",
   "execution_count": null,
   "id": "9db2d205-3fff-4c8e-ab22-33d83648da36",
   "metadata": {},
   "outputs": [],
   "source": []
  },
  {
   "cell_type": "code",
   "execution_count": null,
   "id": "737f78be-9924-4150-8aca-6f57aad2285b",
   "metadata": {},
   "outputs": [],
   "source": []
  },
  {
   "cell_type": "markdown",
   "id": "9ddefe35-3b9f-4826-940e-d4c2dbfa4b5e",
   "metadata": {},
   "source": [
    "#task 4"
   ]
  },
  {
   "cell_type": "code",
   "execution_count": 46,
   "id": "f5c3587a-51f1-4816-a150-300a2009cfec",
   "metadata": {},
   "outputs": [],
   "source": [
    "#how to creat max rows/columns in pandas"
   ]
  },
  {
   "cell_type": "code",
   "execution_count": null,
   "id": "4b143472-f2e1-4dfd-8fb0-cd0bcf1e064c",
   "metadata": {},
   "outputs": [],
   "source": []
  },
  {
   "cell_type": "code",
   "execution_count": 36,
   "id": "24ff5f89-4440-453a-be25-36cc2fcd33be",
   "metadata": {},
   "outputs": [],
   "source": [
    "import pandas as pd"
   ]
  },
  {
   "cell_type": "code",
   "execution_count": 18,
   "id": "7114040a-a7c9-4a7d-b9da-35e0f6b8af4b",
   "metadata": {},
   "outputs": [],
   "source": [
    "foot_ball=pd.read_csv(\"Euro_2012_stats_TEAM.csv\")"
   ]
  },
  {
   "cell_type": "code",
   "execution_count": 19,
   "id": "e2919fd9-b718-4645-a487-7d2c0ce707bf",
   "metadata": {},
   "outputs": [
    {
     "data": {
      "text/html": [
       "<div>\n",
       "<style scoped>\n",
       "    .dataframe tbody tr th:only-of-type {\n",
       "        vertical-align: middle;\n",
       "    }\n",
       "\n",
       "    .dataframe tbody tr th {\n",
       "        vertical-align: top;\n",
       "    }\n",
       "\n",
       "    .dataframe thead th {\n",
       "        text-align: right;\n",
       "    }\n",
       "</style>\n",
       "<table border=\"1\" class=\"dataframe\">\n",
       "  <thead>\n",
       "    <tr style=\"text-align: right;\">\n",
       "      <th></th>\n",
       "      <th>Team</th>\n",
       "      <th>Goals</th>\n",
       "      <th>Shots on target</th>\n",
       "      <th>Shots off target</th>\n",
       "      <th>Shooting Accuracy</th>\n",
       "      <th>% Goals-to-shots</th>\n",
       "      <th>Total shots (inc. Blocked)</th>\n",
       "      <th>Hit Woodwork</th>\n",
       "      <th>Penalty goals</th>\n",
       "      <th>Penalties not scored</th>\n",
       "      <th>...</th>\n",
       "      <th>Saves made</th>\n",
       "      <th>Saves-to-shots ratio</th>\n",
       "      <th>Fouls Won</th>\n",
       "      <th>Fouls Conceded</th>\n",
       "      <th>Offsides</th>\n",
       "      <th>Yellow Cards</th>\n",
       "      <th>Red Cards</th>\n",
       "      <th>Subs on</th>\n",
       "      <th>Subs off</th>\n",
       "      <th>Players Used</th>\n",
       "    </tr>\n",
       "  </thead>\n",
       "  <tbody>\n",
       "    <tr>\n",
       "      <th>0</th>\n",
       "      <td>Croatia</td>\n",
       "      <td>4</td>\n",
       "      <td>13</td>\n",
       "      <td>12</td>\n",
       "      <td>51.9%</td>\n",
       "      <td>16.0%</td>\n",
       "      <td>32</td>\n",
       "      <td>0</td>\n",
       "      <td>0</td>\n",
       "      <td>0</td>\n",
       "      <td>...</td>\n",
       "      <td>13</td>\n",
       "      <td>81.3%</td>\n",
       "      <td>41</td>\n",
       "      <td>62</td>\n",
       "      <td>2</td>\n",
       "      <td>9</td>\n",
       "      <td>0</td>\n",
       "      <td>9</td>\n",
       "      <td>9</td>\n",
       "      <td>16</td>\n",
       "    </tr>\n",
       "    <tr>\n",
       "      <th>1</th>\n",
       "      <td>Czech Republic</td>\n",
       "      <td>4</td>\n",
       "      <td>13</td>\n",
       "      <td>18</td>\n",
       "      <td>41.9%</td>\n",
       "      <td>12.9%</td>\n",
       "      <td>39</td>\n",
       "      <td>0</td>\n",
       "      <td>0</td>\n",
       "      <td>0</td>\n",
       "      <td>...</td>\n",
       "      <td>9</td>\n",
       "      <td>60.1%</td>\n",
       "      <td>53</td>\n",
       "      <td>73</td>\n",
       "      <td>8</td>\n",
       "      <td>7</td>\n",
       "      <td>0</td>\n",
       "      <td>11</td>\n",
       "      <td>11</td>\n",
       "      <td>19</td>\n",
       "    </tr>\n",
       "    <tr>\n",
       "      <th>2</th>\n",
       "      <td>Denmark</td>\n",
       "      <td>4</td>\n",
       "      <td>10</td>\n",
       "      <td>10</td>\n",
       "      <td>50.0%</td>\n",
       "      <td>20.0%</td>\n",
       "      <td>27</td>\n",
       "      <td>1</td>\n",
       "      <td>0</td>\n",
       "      <td>0</td>\n",
       "      <td>...</td>\n",
       "      <td>10</td>\n",
       "      <td>66.7%</td>\n",
       "      <td>25</td>\n",
       "      <td>38</td>\n",
       "      <td>8</td>\n",
       "      <td>4</td>\n",
       "      <td>0</td>\n",
       "      <td>7</td>\n",
       "      <td>7</td>\n",
       "      <td>15</td>\n",
       "    </tr>\n",
       "    <tr>\n",
       "      <th>3</th>\n",
       "      <td>England</td>\n",
       "      <td>5</td>\n",
       "      <td>11</td>\n",
       "      <td>18</td>\n",
       "      <td>50.0%</td>\n",
       "      <td>17.2%</td>\n",
       "      <td>40</td>\n",
       "      <td>0</td>\n",
       "      <td>0</td>\n",
       "      <td>0</td>\n",
       "      <td>...</td>\n",
       "      <td>22</td>\n",
       "      <td>88.1%</td>\n",
       "      <td>43</td>\n",
       "      <td>45</td>\n",
       "      <td>6</td>\n",
       "      <td>5</td>\n",
       "      <td>0</td>\n",
       "      <td>11</td>\n",
       "      <td>11</td>\n",
       "      <td>16</td>\n",
       "    </tr>\n",
       "    <tr>\n",
       "      <th>4</th>\n",
       "      <td>France</td>\n",
       "      <td>3</td>\n",
       "      <td>22</td>\n",
       "      <td>24</td>\n",
       "      <td>37.9%</td>\n",
       "      <td>6.5%</td>\n",
       "      <td>65</td>\n",
       "      <td>1</td>\n",
       "      <td>0</td>\n",
       "      <td>0</td>\n",
       "      <td>...</td>\n",
       "      <td>6</td>\n",
       "      <td>54.6%</td>\n",
       "      <td>36</td>\n",
       "      <td>51</td>\n",
       "      <td>5</td>\n",
       "      <td>6</td>\n",
       "      <td>0</td>\n",
       "      <td>11</td>\n",
       "      <td>11</td>\n",
       "      <td>19</td>\n",
       "    </tr>\n",
       "    <tr>\n",
       "      <th>5</th>\n",
       "      <td>Germany</td>\n",
       "      <td>10</td>\n",
       "      <td>32</td>\n",
       "      <td>32</td>\n",
       "      <td>47.8%</td>\n",
       "      <td>15.6%</td>\n",
       "      <td>80</td>\n",
       "      <td>2</td>\n",
       "      <td>1</td>\n",
       "      <td>0</td>\n",
       "      <td>...</td>\n",
       "      <td>10</td>\n",
       "      <td>62.6%</td>\n",
       "      <td>63</td>\n",
       "      <td>49</td>\n",
       "      <td>12</td>\n",
       "      <td>4</td>\n",
       "      <td>0</td>\n",
       "      <td>15</td>\n",
       "      <td>15</td>\n",
       "      <td>17</td>\n",
       "    </tr>\n",
       "    <tr>\n",
       "      <th>6</th>\n",
       "      <td>Greece</td>\n",
       "      <td>5</td>\n",
       "      <td>8</td>\n",
       "      <td>18</td>\n",
       "      <td>30.7%</td>\n",
       "      <td>19.2%</td>\n",
       "      <td>32</td>\n",
       "      <td>1</td>\n",
       "      <td>1</td>\n",
       "      <td>1</td>\n",
       "      <td>...</td>\n",
       "      <td>13</td>\n",
       "      <td>65.1%</td>\n",
       "      <td>67</td>\n",
       "      <td>48</td>\n",
       "      <td>12</td>\n",
       "      <td>9</td>\n",
       "      <td>1</td>\n",
       "      <td>12</td>\n",
       "      <td>12</td>\n",
       "      <td>20</td>\n",
       "    </tr>\n",
       "    <tr>\n",
       "      <th>7</th>\n",
       "      <td>Italy</td>\n",
       "      <td>6</td>\n",
       "      <td>34</td>\n",
       "      <td>45</td>\n",
       "      <td>43.0%</td>\n",
       "      <td>7.5%</td>\n",
       "      <td>110</td>\n",
       "      <td>2</td>\n",
       "      <td>0</td>\n",
       "      <td>0</td>\n",
       "      <td>...</td>\n",
       "      <td>20</td>\n",
       "      <td>74.1%</td>\n",
       "      <td>101</td>\n",
       "      <td>89</td>\n",
       "      <td>16</td>\n",
       "      <td>16</td>\n",
       "      <td>0</td>\n",
       "      <td>18</td>\n",
       "      <td>18</td>\n",
       "      <td>19</td>\n",
       "    </tr>\n",
       "    <tr>\n",
       "      <th>8</th>\n",
       "      <td>Netherlands</td>\n",
       "      <td>2</td>\n",
       "      <td>12</td>\n",
       "      <td>36</td>\n",
       "      <td>25.0%</td>\n",
       "      <td>4.1%</td>\n",
       "      <td>60</td>\n",
       "      <td>2</td>\n",
       "      <td>0</td>\n",
       "      <td>0</td>\n",
       "      <td>...</td>\n",
       "      <td>12</td>\n",
       "      <td>70.6%</td>\n",
       "      <td>35</td>\n",
       "      <td>30</td>\n",
       "      <td>3</td>\n",
       "      <td>5</td>\n",
       "      <td>0</td>\n",
       "      <td>7</td>\n",
       "      <td>7</td>\n",
       "      <td>15</td>\n",
       "    </tr>\n",
       "    <tr>\n",
       "      <th>9</th>\n",
       "      <td>Poland</td>\n",
       "      <td>2</td>\n",
       "      <td>15</td>\n",
       "      <td>23</td>\n",
       "      <td>39.4%</td>\n",
       "      <td>5.2%</td>\n",
       "      <td>48</td>\n",
       "      <td>0</td>\n",
       "      <td>0</td>\n",
       "      <td>0</td>\n",
       "      <td>...</td>\n",
       "      <td>6</td>\n",
       "      <td>66.7%</td>\n",
       "      <td>48</td>\n",
       "      <td>56</td>\n",
       "      <td>3</td>\n",
       "      <td>7</td>\n",
       "      <td>1</td>\n",
       "      <td>7</td>\n",
       "      <td>7</td>\n",
       "      <td>17</td>\n",
       "    </tr>\n",
       "    <tr>\n",
       "      <th>10</th>\n",
       "      <td>Portugal</td>\n",
       "      <td>6</td>\n",
       "      <td>22</td>\n",
       "      <td>42</td>\n",
       "      <td>34.3%</td>\n",
       "      <td>9.3%</td>\n",
       "      <td>82</td>\n",
       "      <td>6</td>\n",
       "      <td>0</td>\n",
       "      <td>0</td>\n",
       "      <td>...</td>\n",
       "      <td>10</td>\n",
       "      <td>71.5%</td>\n",
       "      <td>73</td>\n",
       "      <td>90</td>\n",
       "      <td>10</td>\n",
       "      <td>12</td>\n",
       "      <td>0</td>\n",
       "      <td>14</td>\n",
       "      <td>14</td>\n",
       "      <td>16</td>\n",
       "    </tr>\n",
       "    <tr>\n",
       "      <th>11</th>\n",
       "      <td>Republic of Ireland</td>\n",
       "      <td>1</td>\n",
       "      <td>7</td>\n",
       "      <td>12</td>\n",
       "      <td>36.8%</td>\n",
       "      <td>5.2%</td>\n",
       "      <td>28</td>\n",
       "      <td>0</td>\n",
       "      <td>0</td>\n",
       "      <td>0</td>\n",
       "      <td>...</td>\n",
       "      <td>17</td>\n",
       "      <td>65.4%</td>\n",
       "      <td>43</td>\n",
       "      <td>51</td>\n",
       "      <td>11</td>\n",
       "      <td>6</td>\n",
       "      <td>1</td>\n",
       "      <td>10</td>\n",
       "      <td>10</td>\n",
       "      <td>17</td>\n",
       "    </tr>\n",
       "    <tr>\n",
       "      <th>12</th>\n",
       "      <td>Russia</td>\n",
       "      <td>5</td>\n",
       "      <td>9</td>\n",
       "      <td>31</td>\n",
       "      <td>22.5%</td>\n",
       "      <td>12.5%</td>\n",
       "      <td>59</td>\n",
       "      <td>2</td>\n",
       "      <td>0</td>\n",
       "      <td>0</td>\n",
       "      <td>...</td>\n",
       "      <td>10</td>\n",
       "      <td>77.0%</td>\n",
       "      <td>34</td>\n",
       "      <td>43</td>\n",
       "      <td>4</td>\n",
       "      <td>6</td>\n",
       "      <td>0</td>\n",
       "      <td>7</td>\n",
       "      <td>7</td>\n",
       "      <td>16</td>\n",
       "    </tr>\n",
       "    <tr>\n",
       "      <th>13</th>\n",
       "      <td>Spain</td>\n",
       "      <td>12</td>\n",
       "      <td>42</td>\n",
       "      <td>33</td>\n",
       "      <td>55.9%</td>\n",
       "      <td>16.0%</td>\n",
       "      <td>100</td>\n",
       "      <td>0</td>\n",
       "      <td>1</td>\n",
       "      <td>0</td>\n",
       "      <td>...</td>\n",
       "      <td>15</td>\n",
       "      <td>93.8%</td>\n",
       "      <td>102</td>\n",
       "      <td>83</td>\n",
       "      <td>19</td>\n",
       "      <td>11</td>\n",
       "      <td>0</td>\n",
       "      <td>17</td>\n",
       "      <td>17</td>\n",
       "      <td>18</td>\n",
       "    </tr>\n",
       "    <tr>\n",
       "      <th>14</th>\n",
       "      <td>Sweden</td>\n",
       "      <td>5</td>\n",
       "      <td>17</td>\n",
       "      <td>19</td>\n",
       "      <td>47.2%</td>\n",
       "      <td>13.8%</td>\n",
       "      <td>39</td>\n",
       "      <td>3</td>\n",
       "      <td>0</td>\n",
       "      <td>0</td>\n",
       "      <td>...</td>\n",
       "      <td>8</td>\n",
       "      <td>61.6%</td>\n",
       "      <td>35</td>\n",
       "      <td>51</td>\n",
       "      <td>7</td>\n",
       "      <td>7</td>\n",
       "      <td>0</td>\n",
       "      <td>9</td>\n",
       "      <td>9</td>\n",
       "      <td>18</td>\n",
       "    </tr>\n",
       "    <tr>\n",
       "      <th>15</th>\n",
       "      <td>Ukraine</td>\n",
       "      <td>2</td>\n",
       "      <td>7</td>\n",
       "      <td>26</td>\n",
       "      <td>21.2%</td>\n",
       "      <td>6.0%</td>\n",
       "      <td>38</td>\n",
       "      <td>0</td>\n",
       "      <td>0</td>\n",
       "      <td>0</td>\n",
       "      <td>...</td>\n",
       "      <td>13</td>\n",
       "      <td>76.5%</td>\n",
       "      <td>48</td>\n",
       "      <td>31</td>\n",
       "      <td>4</td>\n",
       "      <td>5</td>\n",
       "      <td>0</td>\n",
       "      <td>9</td>\n",
       "      <td>9</td>\n",
       "      <td>18</td>\n",
       "    </tr>\n",
       "  </tbody>\n",
       "</table>\n",
       "<p>16 rows × 35 columns</p>\n",
       "</div>"
      ],
      "text/plain": [
       "                   Team  Goals  Shots on target  Shots off target  \\\n",
       "0               Croatia      4               13                12   \n",
       "1        Czech Republic      4               13                18   \n",
       "2               Denmark      4               10                10   \n",
       "3               England      5               11                18   \n",
       "4                France      3               22                24   \n",
       "5               Germany     10               32                32   \n",
       "6                Greece      5                8                18   \n",
       "7                 Italy      6               34                45   \n",
       "8           Netherlands      2               12                36   \n",
       "9                Poland      2               15                23   \n",
       "10             Portugal      6               22                42   \n",
       "11  Republic of Ireland      1                7                12   \n",
       "12               Russia      5                9                31   \n",
       "13                Spain     12               42                33   \n",
       "14               Sweden      5               17                19   \n",
       "15              Ukraine      2                7                26   \n",
       "\n",
       "   Shooting Accuracy % Goals-to-shots  Total shots (inc. Blocked)  \\\n",
       "0              51.9%            16.0%                          32   \n",
       "1              41.9%            12.9%                          39   \n",
       "2              50.0%            20.0%                          27   \n",
       "3              50.0%            17.2%                          40   \n",
       "4              37.9%             6.5%                          65   \n",
       "5              47.8%            15.6%                          80   \n",
       "6              30.7%            19.2%                          32   \n",
       "7              43.0%             7.5%                         110   \n",
       "8              25.0%             4.1%                          60   \n",
       "9              39.4%             5.2%                          48   \n",
       "10             34.3%             9.3%                          82   \n",
       "11             36.8%             5.2%                          28   \n",
       "12             22.5%            12.5%                          59   \n",
       "13             55.9%            16.0%                         100   \n",
       "14             47.2%            13.8%                          39   \n",
       "15             21.2%             6.0%                          38   \n",
       "\n",
       "    Hit Woodwork  Penalty goals  Penalties not scored  ...  Saves made  \\\n",
       "0              0              0                     0  ...          13   \n",
       "1              0              0                     0  ...           9   \n",
       "2              1              0                     0  ...          10   \n",
       "3              0              0                     0  ...          22   \n",
       "4              1              0                     0  ...           6   \n",
       "5              2              1                     0  ...          10   \n",
       "6              1              1                     1  ...          13   \n",
       "7              2              0                     0  ...          20   \n",
       "8              2              0                     0  ...          12   \n",
       "9              0              0                     0  ...           6   \n",
       "10             6              0                     0  ...          10   \n",
       "11             0              0                     0  ...          17   \n",
       "12             2              0                     0  ...          10   \n",
       "13             0              1                     0  ...          15   \n",
       "14             3              0                     0  ...           8   \n",
       "15             0              0                     0  ...          13   \n",
       "\n",
       "    Saves-to-shots ratio  Fouls Won Fouls Conceded  Offsides  Yellow Cards  \\\n",
       "0                  81.3%         41             62         2             9   \n",
       "1                  60.1%         53             73         8             7   \n",
       "2                  66.7%         25             38         8             4   \n",
       "3                  88.1%         43             45         6             5   \n",
       "4                  54.6%         36             51         5             6   \n",
       "5                  62.6%         63             49        12             4   \n",
       "6                  65.1%         67             48        12             9   \n",
       "7                  74.1%        101             89        16            16   \n",
       "8                  70.6%         35             30         3             5   \n",
       "9                  66.7%         48             56         3             7   \n",
       "10                 71.5%         73             90        10            12   \n",
       "11                 65.4%         43             51        11             6   \n",
       "12                 77.0%         34             43         4             6   \n",
       "13                 93.8%        102             83        19            11   \n",
       "14                 61.6%         35             51         7             7   \n",
       "15                 76.5%         48             31         4             5   \n",
       "\n",
       "    Red Cards  Subs on  Subs off  Players Used  \n",
       "0           0        9         9            16  \n",
       "1           0       11        11            19  \n",
       "2           0        7         7            15  \n",
       "3           0       11        11            16  \n",
       "4           0       11        11            19  \n",
       "5           0       15        15            17  \n",
       "6           1       12        12            20  \n",
       "7           0       18        18            19  \n",
       "8           0        7         7            15  \n",
       "9           1        7         7            17  \n",
       "10          0       14        14            16  \n",
       "11          1       10        10            17  \n",
       "12          0        7         7            16  \n",
       "13          0       17        17            18  \n",
       "14          0        9         9            18  \n",
       "15          0        9         9            18  \n",
       "\n",
       "[16 rows x 35 columns]"
      ]
     },
     "execution_count": 19,
     "metadata": {},
     "output_type": "execute_result"
    }
   ],
   "source": [
    "foot_ball"
   ]
  },
  {
   "cell_type": "code",
   "execution_count": 43,
   "id": "edfa9ca7-fe8b-4106-bb3c-5ae834aac0a3",
   "metadata": {},
   "outputs": [],
   "source": [
    "pd.set_option(\"display.max_rows\",df.shape[0]+1)\n",
    "pd.set_option(\"display.max_columns\",df.shape[1]+1)"
   ]
  },
  {
   "cell_type": "code",
   "execution_count": 15,
   "id": "2946911d-b9b1-4c92-bcfc-a39ea9ae7d4f",
   "metadata": {},
   "outputs": [
    {
     "data": {
      "text/html": [
       "<div>\n",
       "<style scoped>\n",
       "    .dataframe tbody tr th:only-of-type {\n",
       "        vertical-align: middle;\n",
       "    }\n",
       "\n",
       "    .dataframe tbody tr th {\n",
       "        vertical-align: top;\n",
       "    }\n",
       "\n",
       "    .dataframe thead th {\n",
       "        text-align: right;\n",
       "    }\n",
       "</style>\n",
       "<table border=\"1\" class=\"dataframe\">\n",
       "  <thead>\n",
       "    <tr style=\"text-align: right;\">\n",
       "      <th></th>\n",
       "      <th>A</th>\n",
       "      <th>B</th>\n",
       "      <th>C</th>\n",
       "      <th>D</th>\n",
       "      <th>E</th>\n",
       "      <th>F</th>\n",
       "    </tr>\n",
       "  </thead>\n",
       "  <tbody>\n",
       "    <tr>\n",
       "      <th>0</th>\n",
       "      <td>2</td>\n",
       "      <td>9</td>\n",
       "      <td>7</td>\n",
       "      <td>1</td>\n",
       "      <td>9</td>\n",
       "      <td>3</td>\n",
       "    </tr>\n",
       "    <tr>\n",
       "      <th>1</th>\n",
       "      <td>0</td>\n",
       "      <td>3</td>\n",
       "      <td>8</td>\n",
       "      <td>1</td>\n",
       "      <td>1</td>\n",
       "      <td>3</td>\n",
       "    </tr>\n",
       "    <tr>\n",
       "      <th>2</th>\n",
       "      <td>3</td>\n",
       "      <td>7</td>\n",
       "      <td>8</td>\n",
       "      <td>5</td>\n",
       "      <td>1</td>\n",
       "      <td>2</td>\n",
       "    </tr>\n",
       "    <tr>\n",
       "      <th>3</th>\n",
       "      <td>1</td>\n",
       "      <td>4</td>\n",
       "      <td>5</td>\n",
       "      <td>3</td>\n",
       "      <td>4</td>\n",
       "      <td>5</td>\n",
       "    </tr>\n",
       "    <tr>\n",
       "      <th>4</th>\n",
       "      <td>0</td>\n",
       "      <td>5</td>\n",
       "      <td>0</td>\n",
       "      <td>7</td>\n",
       "      <td>8</td>\n",
       "      <td>3</td>\n",
       "    </tr>\n",
       "  </tbody>\n",
       "</table>\n",
       "</div>"
      ],
      "text/plain": [
       "   A  B  C  D  E  F\n",
       "0  2  9  7  1  9  3\n",
       "1  0  3  8  1  1  3\n",
       "2  3  7  8  5  1  2\n",
       "3  1  4  5  3  4  5\n",
       "4  0  5  0  7  8  3"
      ]
     },
     "execution_count": 15,
     "metadata": {},
     "output_type": "execute_result"
    }
   ],
   "source": [
    "df"
   ]
  },
  {
   "cell_type": "markdown",
   "id": "0da4f604-3672-487d-9484-b8c903dfb0f2",
   "metadata": {},
   "source": [
    "dectionary "
   ]
  },
  {
   "cell_type": "code",
   "execution_count": 48,
   "id": "5afa7075-b614-40b1-88f4-2eb832731736",
   "metadata": {},
   "outputs": [],
   "source": [
    "mobile_details={\"mobilebrands\":['samsung','nokia','apple','redmi']}"
   ]
  },
  {
   "cell_type": "code",
   "execution_count": 50,
   "id": "4e82fd45-b578-44b3-9f2c-fb358729a1c4",
   "metadata": {},
   "outputs": [
    {
     "data": {
      "text/plain": [
       "{'mobilebrands': ['samsung', 'nokia', 'apple', 'redmi']}"
      ]
     },
     "execution_count": 50,
     "metadata": {},
     "output_type": "execute_result"
    }
   ],
   "source": [
    "mobile_details"
   ]
  },
  {
   "cell_type": "markdown",
   "id": "f62570b5-a07b-4145-8c52-2458a7fa95dc",
   "metadata": {},
   "source": [
    "# explore the query functions "
   ]
  },
  {
   "cell_type": "code",
   "execution_count": 1,
   "id": "124d09cc-ec5f-4579-99ac-3fd5f2473ed4",
   "metadata": {},
   "outputs": [],
   "source": [
    "#query() method is used to query the rows based on the provided expression (single or multiple column conditions) and returns a new DataFrame.\n",
    "In case you want to update the existing referring DataFrame use inplace=True argument."
   ]
  },
  {
   "cell_type": "code",
   "execution_count": 3,
   "id": "435f851d-96dd-4fb8-8d57-46ef1df9aec2",
   "metadata": {},
   "outputs": [],
   "source": [
    "import pandas as pd"
   ]
  },
  {
   "cell_type": "code",
   "execution_count": 6,
   "id": "add9bab4-7292-4faa-ae82-508f1b65f737",
   "metadata": {},
   "outputs": [],
   "source": [
    "df = pd.DataFrame(np.random.randint(10, size=(5,6)), columns=list(\"ABCDEF\"))"
   ]
  },
  {
   "cell_type": "code",
   "execution_count": 7,
   "id": "c8039e02-da43-4164-9682-b07417ea691e",
   "metadata": {},
   "outputs": [
    {
     "data": {
      "text/html": [
       "<div>\n",
       "<style scoped>\n",
       "    .dataframe tbody tr th:only-of-type {\n",
       "        vertical-align: middle;\n",
       "    }\n",
       "\n",
       "    .dataframe tbody tr th {\n",
       "        vertical-align: top;\n",
       "    }\n",
       "\n",
       "    .dataframe thead th {\n",
       "        text-align: right;\n",
       "    }\n",
       "</style>\n",
       "<table border=\"1\" class=\"dataframe\">\n",
       "  <thead>\n",
       "    <tr style=\"text-align: right;\">\n",
       "      <th></th>\n",
       "      <th>A</th>\n",
       "      <th>B</th>\n",
       "      <th>C</th>\n",
       "      <th>D</th>\n",
       "      <th>E</th>\n",
       "      <th>F</th>\n",
       "    </tr>\n",
       "  </thead>\n",
       "  <tbody>\n",
       "    <tr>\n",
       "      <th>0</th>\n",
       "      <td>2</td>\n",
       "      <td>9</td>\n",
       "      <td>7</td>\n",
       "      <td>1</td>\n",
       "      <td>9</td>\n",
       "      <td>3</td>\n",
       "    </tr>\n",
       "    <tr>\n",
       "      <th>1</th>\n",
       "      <td>0</td>\n",
       "      <td>3</td>\n",
       "      <td>8</td>\n",
       "      <td>1</td>\n",
       "      <td>1</td>\n",
       "      <td>3</td>\n",
       "    </tr>\n",
       "    <tr>\n",
       "      <th>2</th>\n",
       "      <td>3</td>\n",
       "      <td>7</td>\n",
       "      <td>8</td>\n",
       "      <td>5</td>\n",
       "      <td>1</td>\n",
       "      <td>2</td>\n",
       "    </tr>\n",
       "    <tr>\n",
       "      <th>3</th>\n",
       "      <td>1</td>\n",
       "      <td>4</td>\n",
       "      <td>5</td>\n",
       "      <td>3</td>\n",
       "      <td>4</td>\n",
       "      <td>5</td>\n",
       "    </tr>\n",
       "    <tr>\n",
       "      <th>4</th>\n",
       "      <td>0</td>\n",
       "      <td>5</td>\n",
       "      <td>0</td>\n",
       "      <td>7</td>\n",
       "      <td>8</td>\n",
       "      <td>3</td>\n",
       "    </tr>\n",
       "  </tbody>\n",
       "</table>\n",
       "</div>"
      ],
      "text/plain": [
       "   A  B  C  D  E  F\n",
       "0  2  9  7  1  9  3\n",
       "1  0  3  8  1  1  3\n",
       "2  3  7  8  5  1  2\n",
       "3  1  4  5  3  4  5\n",
       "4  0  5  0  7  8  3"
      ]
     },
     "execution_count": 7,
     "metadata": {},
     "output_type": "execute_result"
    }
   ],
   "source": [
    "df"
   ]
  },
  {
   "cell_type": "code",
   "execution_count": 8,
   "id": "4cc1d7f5-0b50-482a-bbaf-149091dc3847",
   "metadata": {},
   "outputs": [
    {
     "data": {
      "text/html": [
       "<div>\n",
       "<style scoped>\n",
       "    .dataframe tbody tr th:only-of-type {\n",
       "        vertical-align: middle;\n",
       "    }\n",
       "\n",
       "    .dataframe tbody tr th {\n",
       "        vertical-align: top;\n",
       "    }\n",
       "\n",
       "    .dataframe thead th {\n",
       "        text-align: right;\n",
       "    }\n",
       "</style>\n",
       "<table border=\"1\" class=\"dataframe\">\n",
       "  <thead>\n",
       "    <tr style=\"text-align: right;\">\n",
       "      <th></th>\n",
       "      <th>A</th>\n",
       "      <th>B</th>\n",
       "      <th>C</th>\n",
       "      <th>D</th>\n",
       "      <th>E</th>\n",
       "      <th>F</th>\n",
       "    </tr>\n",
       "  </thead>\n",
       "  <tbody>\n",
       "  </tbody>\n",
       "</table>\n",
       "</div>"
      ],
      "text/plain": [
       "Empty DataFrame\n",
       "Columns: [A, B, C, D, E, F]\n",
       "Index: []"
      ]
     },
     "execution_count": 8,
     "metadata": {},
     "output_type": "execute_result"
    }
   ],
   "source": [
    "#The query function allows for applying filtering conditions as a string. It provides more flexibility than many other techniques.\n",
    "df.query(\"A > 4\")"
   ]
  },
  {
   "cell_type": "code",
   "execution_count": 9,
   "id": "8ef083a5-4068-4ba1-b10f-5caf52754c70",
   "metadata": {},
   "outputs": [
    {
     "data": {
      "text/html": [
       "<div>\n",
       "<style scoped>\n",
       "    .dataframe tbody tr th:only-of-type {\n",
       "        vertical-align: middle;\n",
       "    }\n",
       "\n",
       "    .dataframe tbody tr th {\n",
       "        vertical-align: top;\n",
       "    }\n",
       "\n",
       "    .dataframe thead th {\n",
       "        text-align: right;\n",
       "    }\n",
       "</style>\n",
       "<table border=\"1\" class=\"dataframe\">\n",
       "  <thead>\n",
       "    <tr style=\"text-align: right;\">\n",
       "      <th></th>\n",
       "      <th>A</th>\n",
       "      <th>B</th>\n",
       "      <th>C</th>\n",
       "      <th>D</th>\n",
       "      <th>E</th>\n",
       "      <th>F</th>\n",
       "    </tr>\n",
       "  </thead>\n",
       "  <tbody>\n",
       "  </tbody>\n",
       "</table>\n",
       "</div>"
      ],
      "text/plain": [
       "Empty DataFrame\n",
       "Columns: [A, B, C, D, E, F]\n",
       "Index: []"
      ]
     },
     "execution_count": 9,
     "metadata": {},
     "output_type": "execute_result"
    }
   ],
   "source": [
    "#We can easily combine multiple conditions.\n",
    "df.query(\"A > 4 and E == 5\")"
   ]
  },
  {
   "cell_type": "code",
   "execution_count": 10,
   "id": "c6e91411-6d84-40a4-bd4c-950e6ed2ec3c",
   "metadata": {},
   "outputs": [
    {
     "data": {
      "text/html": [
       "<div>\n",
       "<style scoped>\n",
       "    .dataframe tbody tr th:only-of-type {\n",
       "        vertical-align: middle;\n",
       "    }\n",
       "\n",
       "    .dataframe tbody tr th {\n",
       "        vertical-align: top;\n",
       "    }\n",
       "\n",
       "    .dataframe thead th {\n",
       "        text-align: right;\n",
       "    }\n",
       "</style>\n",
       "<table border=\"1\" class=\"dataframe\">\n",
       "  <thead>\n",
       "    <tr style=\"text-align: right;\">\n",
       "      <th></th>\n",
       "      <th>A</th>\n",
       "      <th>B</th>\n",
       "      <th>C</th>\n",
       "      <th>D</th>\n",
       "      <th>E</th>\n",
       "      <th>F</th>\n",
       "    </tr>\n",
       "  </thead>\n",
       "  <tbody>\n",
       "    <tr>\n",
       "      <th>2</th>\n",
       "      <td>3</td>\n",
       "      <td>7</td>\n",
       "      <td>8</td>\n",
       "      <td>5</td>\n",
       "      <td>1</td>\n",
       "      <td>2</td>\n",
       "    </tr>\n",
       "    <tr>\n",
       "      <th>3</th>\n",
       "      <td>1</td>\n",
       "      <td>4</td>\n",
       "      <td>5</td>\n",
       "      <td>3</td>\n",
       "      <td>4</td>\n",
       "      <td>5</td>\n",
       "    </tr>\n",
       "  </tbody>\n",
       "</table>\n",
       "</div>"
      ],
      "text/plain": [
       "   A  B  C  D  E  F\n",
       "2  3  7  8  5  1  2\n",
       "3  1  4  5  3  4  5"
      ]
     },
     "execution_count": 10,
     "metadata": {},
     "output_type": "execute_result"
    }
   ],
   "source": [
    "#It is possible to use the “or” logic to combine multiple conditions as well.\n",
    "df.query(\"A > 2 or F > 4\")"
   ]
  }
 ],
 "metadata": {
  "kernelspec": {
   "display_name": "Python 3 (ipykernel)",
   "language": "python",
   "name": "python3"
  },
  "language_info": {
   "codemirror_mode": {
    "name": "ipython",
    "version": 3
   },
   "file_extension": ".py",
   "mimetype": "text/x-python",
   "name": "python",
   "nbconvert_exporter": "python",
   "pygments_lexer": "ipython3",
   "version": "3.11.5"
  }
 },
 "nbformat": 4,
 "nbformat_minor": 5
}
